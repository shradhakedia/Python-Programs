{
  "nbformat": 4,
  "nbformat_minor": 0,
  "metadata": {
    "colab": {
      "name": "innerclasses.ipynb",
      "provenance": [],
      "collapsed_sections": []
    },
    "kernelspec": {
      "name": "python3",
      "display_name": "Python 3"
    }
  },
  "cells": [
    {
      "cell_type": "markdown",
      "metadata": {
        "id": "lez1VG8vjQiN"
      },
      "source": [
        "**Inner Classes** : \n",
        "Python is an object oriented programming language,everything in python is related to objects,methods and properties.So,just like we have methods and variables as the members of a class, we can also have another class as the member of that outer class.A class defined in another class is called inner class.\n",
        "\n",
        "\n"
      ]
    },
    {
      "cell_type": "code",
      "metadata": {
        "colab": {
          "base_uri": "https://localhost:8080/"
        },
        "id": "jHWXZSBG8KZh",
        "outputId": "d0f2c441-8b84-4fc2-c62f-5eba1e8e1c22"
      },
      "source": [
        "class Classroom:\n",
        "  def __init__(self):\n",
        "    self.numOfStudents=56\n",
        "    self.numOfBenches=23\n",
        "    self.classteacher=\"Miss Neelima\"\n",
        "    self.stu=self.Students()\n",
        "  def show(self):\n",
        "    print(\"In Outer Class:\")\n",
        "    print(f'Class Teacher:{self.classteacher}\\nNumber of Students:{self.numOfStudents}\\nNumber of Benches:{self.numOfBenches}')\n",
        "  class Students:\n",
        "    def __init__(self):\n",
        "      self.name=\"Ankit\"\n",
        "      self.gender='Male'\n",
        "      self.Totalsubjects=[\"English\",\"Hindi\",\"Computer Science\",\"Maths\"]\n",
        "    def display(self):\n",
        "      print(\"In Inner Class:\")\n",
        "      print(f'Name:{self.name}\\nGender:{self.gender}\\nSubjects:{self.Totalsubjects}')\n",
        "outerobj=Classroom()\n",
        "outerobj.show()\n",
        "outerobj.stu.display()\n",
        "#s=outerobj.stu\n",
        "#s.display()"
      ],
      "execution_count": null,
      "outputs": [
        {
          "output_type": "stream",
          "text": [
            "In Outer Class:\n",
            "Class Teacher:Miss Neelima\n",
            "Number of Students:56\n",
            "Number of Benches:23\n",
            "In Inner Class:\n",
            "Name:Ankit\n",
            "Gender:Male\n",
            "Subjects:['English', 'Hindi', 'Computer Science', 'Maths']\n"
          ],
          "name": "stdout"
        }
      ]
    },
    {
      "cell_type": "code",
      "metadata": {
        "id": "Ssrzj5gVly5e",
        "colab": {
          "base_uri": "https://localhost:8080/"
        },
        "outputId": "8c48c8ad-adf1-4d99-cf9c-d17d5fd269bb"
      },
      "source": [
        "class Classroom:\n",
        "  def __init__(self,tname,sname,sgender,totsub):\n",
        "    self.numOfStudents=56\n",
        "    self.numOfBenches=23\n",
        "    self.classteacher=tname\n",
        "    self.stu=self.Student(sname,sgender,totsub)\n",
        "  def show(self):\n",
        "    print(\"-\"*20,\"In Outer Class:\",\"-\"*20)\n",
        "    print(f'Class Teacher:{self.classteacher}\\nNumber of Students:{self.numOfStudents}\\nNumber of Benches:{self.numOfBenches}')\n",
        "  class Student:\n",
        "    def __init__(self,sname,sgender,totsub):\n",
        "      self.name=sname\n",
        "      self.gender=sgender\n",
        "      self.Totalsubjects=totsub\n",
        "    def display(self):\n",
        "      print(\"-\"*20,\"In Inner Class:\",\"-\"*20)\n",
        "      print(f'Name:{self.name}\\nGender:{self.gender}\\nSubjects:{self.Totalsubjects}')\n",
        "outerobj=Classroom(\"Miss Neelima\",\"Ankit\",'Male',[\"English\",\"Hindi\",\"Computer Science\",\"Maths\"])\n",
        "outerobj.show()\n",
        "s=outerobj.stu\n",
        "s.display()\n"
      ],
      "execution_count": null,
      "outputs": [
        {
          "output_type": "stream",
          "text": [
            "-------------------- In Outer Class: --------------------\n",
            "Class Teacher:Miss Neelima\n",
            "Number of Students:56\n",
            "Number of Benches:23\n",
            "-------------------- In Inner Class: --------------------\n",
            "Name:Ankit\n",
            "Gender:Male\n",
            "Subjects:['English', 'Hindi', 'Computer Science', 'Maths']\n"
          ],
          "name": "stdout"
        }
      ]
    },
    {
      "cell_type": "markdown",
      "metadata": {
        "id": "ypkPvxpfAogk"
      },
      "source": [
        "If an object is created using inner class then the object can also be used by root(outer) class. A outer class can have one or more inner class but generally inner classes are avoided.\n",
        "\n",
        "We can make our code even more object oriented by using inner class. A single object of the class can hold multiple sub-objects. We can use multiple sub-objects to give a good structure to our program.\n"
      ]
    },
    {
      "cell_type": "markdown",
      "metadata": {
        "id": "rdibadnVBW0D"
      },
      "source": [
        "**Why we are studying Inner Classes?**\n",
        "For the grouping of two or more classes.\n",
        "With the help of the inner class, we can hide the inner class from the outside world. Hence, Hiding the code is another good feature of the inner class.\n",
        "\n",
        "By using the inner class, we can easily understand the classes because the classes are closely related. We do not need to search for classes in the whole code, they all are almost together.\n",
        "\n",
        "Though inner or nested classes are not used widely in Python it will be a better feature to implement code because it is straight forward to organize when we use inner class or nested class. \n",
        "\n",
        "Inner classes are a security mechanism in Java. We know a class cannot be associated with the access modifier private, but if we have the class as a member of other class, then the inner class can be made private."
      ]
    },
    {
      "cell_type": "markdown",
      "metadata": {
        "id": "zwSJEuDcCVGC"
      },
      "source": [
        "**Syntax**\n",
        "\n",
        "\n",
        "\n",
        "      class <outer class name>:\n",
        "\n",
        "      #defining Constructor of outer class\n",
        "      def __init__(self):\n",
        "        self.nameOfVariable=value\n",
        "\n",
        "        #creating inner class Object\n",
        "        self.nameOfInnerClassObject=self.nameOfInnerClass\n",
        "\n",
        "      def <methodname()>:\n",
        "        ...\n",
        "\n",
        "      class <inner class name>:\n",
        "        #constructor of inner class\n",
        "        def __init__(self):\n",
        "          self.nameOfVariable=value\n",
        "\n",
        "      #creating outer class object    \n",
        "      outer = NameOfOuterClass\n",
        "\n",
        "\n",
        "\n",
        "\n",
        "\n"
      ]
    },
    {
      "cell_type": "markdown",
      "metadata": {
        "id": "DF1T-2qcFeaf"
      },
      "source": [
        "**Types of inner classes**\n",
        "\n",
        "1.   Multiple inner class\n",
        "2.   Multilevel inner class\n",
        "\n",
        "\n",
        "If a class contains multiple inner classes, it is called multiple inner class.\n",
        "For example, Classroom(outer class)-Subject Teachers,Students(inner classes) \n",
        "\n",
        "If a class contains a inner class and that inner class again has inner class,then it is called multilevel inner class.\n",
        "For example, School-Classroom-Subject Teachers,Students\n"
      ]
    },
    {
      "cell_type": "code",
      "metadata": {
        "colab": {
          "base_uri": "https://localhost:8080/"
        },
        "id": "oO194ZlpLvOI",
        "outputId": "0f5a10e1-630c-46ce-8364-b12683b34837"
      },
      "source": [
        "#Multiple inner class:\n",
        "class Classroom:\n",
        "  def __init__(self):\n",
        "    self.numOfStudents=56\n",
        "    self.numOfBenches=23\n",
        "    self.classteacher=\"Miss Neelima\"\n",
        "    self.teach=self.Teacher()\n",
        "    self.stu=self.Student()\n",
        "  def show(self):\n",
        "    print(\"-\"*20,\"In Outer Class(CLASSROOM):\",\"-\"*20)\n",
        "    print(f'Class Teacher:{self.classteacher}\\nNumber of Students:{self.numOfStudents}\\nNumber of Benches:{self.numOfBenches}')\n",
        "  class Teacher:\n",
        "    def __init__(self):\n",
        "      self.name=\"Mr. Shah\"\n",
        "      self.gender='Male'\n",
        "      self.SubjectOfTeacher=\"Maths\"\n",
        "    def display(self):\n",
        "      print(\"-\"*20,\"In Inner Class1(TEACHER):\",\"-\"*20)\n",
        "      print(f'Teacher alloted:\\nName:{self.name}\\nGender:{self.gender}\\nSubject:{self.SubjectOfTeacher}')\n",
        "  class Student:\n",
        "    def __init__(self):\n",
        "      self.name=\"Saloni\"\n",
        "      self.gender='Female'\n",
        "      self.Totalsubjects=[\"English\",\"Hindi\",\"Computer Science\",\"Maths\"]\n",
        "    def display(self):\n",
        "      print(\"-\"*20,\"In Inner Class2(STUDENTS):\",\"-\"*20)\n",
        "      print(f'Name:{self.name}\\nGender:{self.gender}\\nSubjects:{self.Totalsubjects}')\n",
        "\n",
        "outerobj=Classroom()\n",
        "outerobj.show()\n",
        "t=outerobj.teach\n",
        "t.display()\n",
        "#Same as outerobj.teach.display()\n",
        "s=outerobj.stu\n",
        "s.display()\n",
        "#Same as outerobj.stu.display()"
      ],
      "execution_count": null,
      "outputs": [
        {
          "output_type": "stream",
          "text": [
            "-------------------- In Outer Class(CLASSROOM): --------------------\n",
            "Class Teacher:Miss Neelima\n",
            "Number of Students:56\n",
            "Number of Benches:23\n",
            "-------------------- In Inner Class1(TEACHER): --------------------\n",
            "Teacher alloted:\n",
            "Name:Mr. Shah\n",
            "Gender:Male\n",
            "Subject:Maths\n",
            "-------------------- In Inner Class2(STUDENTS): --------------------\n",
            "Name:Saloni\n",
            "Gender:Female\n",
            "Subjects:['English', 'Hindi', 'Computer Science', 'Maths']\n"
          ],
          "name": "stdout"
        }
      ]
    },
    {
      "cell_type": "code",
      "metadata": {
        "colab": {
          "base_uri": "https://localhost:8080/"
        },
        "id": "rubKk05EN6OU",
        "outputId": "f753eb1b-a507-45c1-9beb-bb99c25b43dc"
      },
      "source": [
        "#Multilevel inner class:\n",
        "class School:\n",
        "  def __init__(self):\n",
        "      self.Principal=\"Dr. A.K.Garg\"\n",
        "      self.VicePrincipal=\"Mrs. Ira Goel\"\n",
        "      self.nonteachingStaff=[\"X\",\"Y\",\"Z\"]\n",
        "      self.clss=self.Classroom()\n",
        "      #we can think of more inner classes(labs,teachingstaffs,sportsroom,courts)\n",
        "  def show(self):\n",
        "    print(\"-\"*20,\"In Outer Class(SCHOOL):\",\"-\"*20)\n",
        "    print(f'Principal:{self.Principal}\\nVice Principal:{self.VicePrincipal}\\nNon Teaching Staffs:{self.nonteachingStaff}')\n",
        "  class Classroom:\n",
        "    def __init__(self):\n",
        "      self.numOfStudents=56\n",
        "      self.numOfBenches=23\n",
        "      self.classteacher=\"Miss Neelima\"\n",
        "      self.stu=self.Student()\n",
        "      #we can think of inner inner class as \"Teachers\" as mentioned above \n",
        "    def display(self):\n",
        "      print(\"-\"*20,\"In Inner Class(CLASSROOM):\",\"-\"*20)\n",
        "      print(f'Class Teacher:{self.classteacher}\\nNumber of Students:{self.numOfStudents}\\nNumber of Benches:{self.numOfBenches}')\n",
        "    class Student:\n",
        "      def __init__(self):\n",
        "        self.name=\"Saloni\"\n",
        "        self.gender='Female'\n",
        "        self.Totalsubjects=[\"English\",\"Hindi\",\"Computer Science\",\"Maths\"]\n",
        "      def display(self):\n",
        "        print(\"-\"*20,\"In Inner Inner Class(STUDENT):\",\"-\"*20)\n",
        "        print(f'Name:{self.name}\\nGender:{self.gender}\\nSubjects:{self.Totalsubjects}')\n",
        "outerobj=School()\n",
        "outerobj.show()\n",
        "c=outerobj.clss\n",
        "c.display()\n",
        "#outerobj.clss.display()\n",
        "s=outerobj.clss.stu \n",
        "s.display()\n",
        "#outerobj.clss.stu.display()"
      ],
      "execution_count": null,
      "outputs": [
        {
          "output_type": "stream",
          "text": [
            "-------------------- In Outer Class(SCHOOL): --------------------\n",
            "Principal:Dr. A.K.Garg\n",
            "Vice Principal:Mrs. Ira Goel\n",
            "Non Teaching Staffs:['X', 'Y', 'Z']\n",
            "-------------------- In Inner Class(CLASSROOM): --------------------\n",
            "Class Teacher:Miss Neelima\n",
            "Number of Students:56\n",
            "Number of Benches:23\n",
            "-------------------- In Inner Inner Class(STUDENT): --------------------\n",
            "Name:Saloni\n",
            "Gender:Female\n",
            "Subjects:['English', 'Hindi', 'Computer Science', 'Maths']\n"
          ],
          "name": "stdout"
        }
      ]
    }
  ]
}