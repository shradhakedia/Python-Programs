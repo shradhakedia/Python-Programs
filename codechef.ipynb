{
 "metadata": {
  "language_info": {
   "codemirror_mode": {
    "name": "ipython",
    "version": 3
   },
   "file_extension": ".py",
   "mimetype": "text/x-python",
   "name": "python",
   "nbconvert_exporter": "python",
   "pygments_lexer": "ipython3",
   "version": 3
  },
  "orig_nbformat": 2
 },
 "nbformat": 4,
 "nbformat_minor": 2,
 "cells": [
  {
   "cell_type": "code",
   "execution_count": null,
   "metadata": {},
   "outputs": [],
   "source": [
    "t=int(input())\n",
    "while t>0:\n",
    "    n,d=list(map(str,input().strip().split()))\n",
    "    if d<=min(n):\n",
    "        print(d*len(n))\n",
    "    else:\n",
    "        m=min(n)\n",
    "        for i in range(len(n)):\n",
    "            if n[i]>m:\n",
    "                n=n.replace(n[i],'')+d\n",
    "            elif n[i]==m:\n",
    "                m=n[i+1]\n",
    "        if n[len(n)-1]>d:\n",
    "            n=n.replace(n[len(n)-1],d)\n",
    "        print(n)\n",
    "    t-=1"
   ]
  },
  {
   "cell_type": "code",
   "execution_count": null,
   "metadata": {},
   "outputs": [],
   "source": []
  }
 ]
}